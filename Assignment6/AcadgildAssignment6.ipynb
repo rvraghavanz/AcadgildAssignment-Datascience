{
 "cells": [
  {
   "cell_type": "markdown",
   "metadata": {},
   "source": [
    "Write a function so that the columns of the output matrix are powers of the input\n",
    "vector.\n",
    "The order of the powers is determined by the increasing boolean argument. Specifically,\n",
    "when increasing is False, the i-th output column is the input vector raised element-wise\n",
    "to the power of N - i - 1.\n",
    "\n",
    "HINT: Such a matrix with a geometric progression in each row is named for Alexandre-\n",
    "Theophile Vandermonde."
   ]
  },
  {
   "cell_type": "markdown",
   "metadata": {},
   "source": [
    "# We can either use built-in numpy vander function or create our own"
   ]
  },
  {
   "cell_type": "code",
   "execution_count": 10,
   "metadata": {
    "scrolled": true
   },
   "outputs": [
    {
     "name": "stdout",
     "output_type": "stream",
     "text": [
      "[[ 1  1  1]\n",
      " [ 1  2  4]\n",
      " [ 1  3  9]\n",
      " [ 1  5 25]]\n"
     ]
    }
   ],
   "source": [
    "import numpy as np\n",
    "x = np.array([1, 2, 3, 5])\n",
    "print(np.vander(x, 3, True))"
   ]
  },
  {
   "cell_type": "code",
   "execution_count": 1,
   "metadata": {},
   "outputs": [
    {
     "name": "stdout",
     "output_type": "stream",
     "text": [
      "Enter N power :3\n",
      "Enter list of elements like. 1,2,3 :\n",
      "1,3,6\n",
      "Input is : [1 3 6]\n",
      "Enter 'True' for increasing order of powers else enter 'False' :True\n",
      "Vandermonde matrix is :\n",
      "[[ 1  1  1]\n",
      " [ 1  3  9]\n",
      " [ 1  6 36]]\n"
     ]
    }
   ],
   "source": [
    "import numpy as np\n",
    "\n",
    "def vander_Input(x,N,order):\n",
    "    X=x.size\n",
    "    result_array=np.empty((N,X),dtype=int)\n",
    "    \n",
    "    if order.upper()==\"TRUE\":\n",
    "        for i in range(N):\n",
    "            power_vector=np.array(np.power(x,i))\n",
    "            result_array[i]=power_vector\n",
    "    else:\n",
    "        for i in range(N-1,-1,-1):\n",
    "            power_vector=np.array(np.power(x,i))\n",
    "            result_array[(N-1)-i]=power_vector\n",
    "    return result_array\n",
    "\n",
    "\n",
    "\n",
    "\n",
    "N=int(input('Enter N power :'))\n",
    "\n",
    "print('Enter list of elements like. 1,2,3 :')\n",
    "input_vector=input()\n",
    "input_list=list(map(int,input_vector.split(',')))\n",
    "x=np.array(input_list)\n",
    "print('Input is :', x)\n",
    "\n",
    "order=input(\"Enter 'True' for increasing order of powers else enter 'False' :\")\n",
    "\n",
    "result_array=vander_Input(x,N,order)\n",
    "print('Vandermonde matrix is :')\n",
    "print(result_array.T)"
   ]
  },
  {
   "cell_type": "code",
   "execution_count": null,
   "metadata": {},
   "outputs": [],
   "source": []
  }
 ],
 "metadata": {
  "kernelspec": {
   "display_name": "Python 3",
   "language": "python",
   "name": "python3"
  },
  "language_info": {
   "codemirror_mode": {
    "name": "ipython",
    "version": 3
   },
   "file_extension": ".py",
   "mimetype": "text/x-python",
   "name": "python",
   "nbconvert_exporter": "python",
   "pygments_lexer": "ipython3",
   "version": "3.6.5"
  }
 },
 "nbformat": 4,
 "nbformat_minor": 2
}
