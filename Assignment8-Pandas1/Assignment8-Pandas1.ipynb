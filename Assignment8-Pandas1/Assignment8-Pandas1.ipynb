{
 "cells": [
  {
   "cell_type": "markdown",
   "metadata": {},
   "source": [
    "# 1) How-to-count-distance-to-the-previous-zero\n",
    "\n",
    "For each value, count the difference of the distance from the previous zero (or the start\n",
    "of the Series, whichever is closer) and if there are no previous zeros,print the position\n",
    "Consider a DataFrame df where there is an integer column {'X':[7, 2, 0, 3, 4, 2, 5, 0, 3, 4]}\n",
    "The values should therefore be [1, 2, 0, 1, 2, 3, 4, 0, 1, 2].\n",
    "Make this a new column 'Y'.\n",
    "\n",
    "import pandas as pd\n",
    "\n",
    "df = pd.DataFrame({'X': [7, 2, 0, 3, 4, 2, 5, 0, 3, 4]})"
   ]
  },
  {
   "cell_type": "code",
   "execution_count": 14,
   "metadata": {},
   "outputs": [
    {
     "data": {
      "text/html": [
       "<div>\n",
       "<style scoped>\n",
       "    .dataframe tbody tr th:only-of-type {\n",
       "        vertical-align: middle;\n",
       "    }\n",
       "\n",
       "    .dataframe tbody tr th {\n",
       "        vertical-align: top;\n",
       "    }\n",
       "\n",
       "    .dataframe thead th {\n",
       "        text-align: right;\n",
       "    }\n",
       "</style>\n",
       "<table border=\"1\" class=\"dataframe\">\n",
       "  <thead>\n",
       "    <tr style=\"text-align: right;\">\n",
       "      <th></th>\n",
       "      <th>X</th>\n",
       "      <th>Y</th>\n",
       "    </tr>\n",
       "  </thead>\n",
       "  <tbody>\n",
       "    <tr>\n",
       "      <th>0</th>\n",
       "      <td>7</td>\n",
       "      <td>1</td>\n",
       "    </tr>\n",
       "    <tr>\n",
       "      <th>1</th>\n",
       "      <td>2</td>\n",
       "      <td>2</td>\n",
       "    </tr>\n",
       "    <tr>\n",
       "      <th>2</th>\n",
       "      <td>0</td>\n",
       "      <td>0</td>\n",
       "    </tr>\n",
       "    <tr>\n",
       "      <th>3</th>\n",
       "      <td>3</td>\n",
       "      <td>1</td>\n",
       "    </tr>\n",
       "    <tr>\n",
       "      <th>4</th>\n",
       "      <td>4</td>\n",
       "      <td>2</td>\n",
       "    </tr>\n",
       "    <tr>\n",
       "      <th>5</th>\n",
       "      <td>2</td>\n",
       "      <td>3</td>\n",
       "    </tr>\n",
       "    <tr>\n",
       "      <th>6</th>\n",
       "      <td>5</td>\n",
       "      <td>4</td>\n",
       "    </tr>\n",
       "    <tr>\n",
       "      <th>7</th>\n",
       "      <td>0</td>\n",
       "      <td>0</td>\n",
       "    </tr>\n",
       "    <tr>\n",
       "      <th>8</th>\n",
       "      <td>3</td>\n",
       "      <td>1</td>\n",
       "    </tr>\n",
       "    <tr>\n",
       "      <th>9</th>\n",
       "      <td>4</td>\n",
       "      <td>2</td>\n",
       "    </tr>\n",
       "  </tbody>\n",
       "</table>\n",
       "</div>"
      ],
      "text/plain": [
       "   X  Y\n",
       "0  7  1\n",
       "1  2  2\n",
       "2  0  0\n",
       "3  3  1\n",
       "4  4  2\n",
       "5  2  3\n",
       "6  5  4\n",
       "7  0  0\n",
       "8  3  1\n",
       "9  4  2"
      ]
     },
     "execution_count": 14,
     "metadata": {},
     "output_type": "execute_result"
    }
   ],
   "source": [
    "import pandas as pd\n",
    "import numpy as np\n",
    "\n",
    "df = pd.DataFrame({'X': [7, 2, 0, 3, 4, 2, 5, 0, 3, 4]})\n",
    "df_series = df['X']\n",
    "df_list = df_series.tolist()\n",
    "y=list()\n",
    "count = 0\n",
    "for l in df_list:\n",
    "    if l == 0:\n",
    "        count=0\n",
    "    else:  \n",
    "        count=count+1\n",
    "    y.append(count)\n",
    "    \n",
    "df['Y']=y\n",
    "df\n",
    "    "
   ]
  },
  {
   "cell_type": "code",
   "execution_count": 21,
   "metadata": {},
   "outputs": [
    {
     "name": "stdout",
     "output_type": "stream",
     "text": [
      "Output \n",
      "\n",
      "2015-01-01    0.389819\n",
      "2015-01-02    0.138658\n",
      "2015-01-05    0.850854\n",
      "2015-01-06    0.016472\n",
      "2015-01-07    0.712209\n",
      "Freq: B, dtype: float64\n",
      "DatetimeIndex(['2015-01-01', '2015-01-02', '2015-01-05', '2015-01-06',\n",
      "               '2015-01-07', '2015-01-08', '2015-01-09', '2015-01-12',\n",
      "               '2015-01-13', '2015-01-14',\n",
      "               ...\n",
      "               '2015-12-18', '2015-12-21', '2015-12-22', '2015-12-23',\n",
      "               '2015-12-24', '2015-12-25', '2015-12-28', '2015-12-29',\n",
      "               '2015-12-30', '2015-12-31'],\n",
      "              dtype='datetime64[ns]', length=261, freq='B')\n"
     ]
    }
   ],
   "source": [
    "#2) Create a DatetimeIndex that contains each business day of 2015 and use it to index a\n",
    "#   Series of random numbers.\n",
    "\n",
    "import pandas as pd\n",
    "import numpy as np\n",
    "\n",
    "data= pd.date_range(start='2015-01-01',end='2015-12-31',freq='B')\n",
    "\n",
    "randomNum=np.random.rand(len(data))\n",
    "\n",
    "s= pd.Series(randomNum,index=data)\n",
    "print(\"Output \\n\")\n",
    "print(s.head())\n",
    "print(s.index)"
   ]
  },
  {
   "cell_type": "code",
   "execution_count": 22,
   "metadata": {},
   "outputs": [
    {
     "name": "stdout",
     "output_type": "stream",
     "text": [
      "Sum of values for Wedensday in s:\n"
     ]
    },
    {
     "data": {
      "text/plain": [
       "22.126021772302717"
      ]
     },
     "execution_count": 22,
     "metadata": {},
     "output_type": "execute_result"
    }
   ],
   "source": [
    "# 3) Find the sum of the values in s for every Wednesday\n",
    "\n",
    "s[data.weekday_name=='Wednesday'].head()\n",
    "\n",
    "print(\"Sum of values for Wedensday in s:\")\n",
    "s[data.weekday_name=='Wednesday'].sum()"
   ]
  },
  {
   "cell_type": "code",
   "execution_count": 19,
   "metadata": {},
   "outputs": [
    {
     "data": {
      "text/plain": [
       "2015-01-31    0.498673\n",
       "2015-02-28    0.642758\n",
       "2015-03-31    0.413621\n",
       "2015-04-30    0.452715\n",
       "2015-05-31    0.475024\n",
       "2015-06-30    0.511295\n",
       "2015-07-31    0.473258\n",
       "2015-08-31    0.399508\n",
       "2015-09-30    0.551639\n",
       "2015-10-31    0.488719\n",
       "2015-11-30    0.595471\n",
       "2015-12-31    0.652149\n",
       "Freq: M, dtype: float64"
      ]
     },
     "execution_count": 19,
     "metadata": {},
     "output_type": "execute_result"
    }
   ],
   "source": [
    "# 4) Average For each calendar month4) Average For each calendar month\n",
    "\n",
    "s.resample('M',convention='end').mean()"
   ]
  },
  {
   "cell_type": "code",
   "execution_count": 20,
   "metadata": {},
   "outputs": [
    {
     "name": "stdout",
     "output_type": "stream",
     "text": [
      "Duration of consecutive 4 months  , till that highest value recorded \n",
      "\n",
      "2015-01-31   2015-01-30\n",
      "2015-05-31   2015-02-02\n",
      "2015-09-30   2015-08-12\n",
      "2016-01-31   2015-10-20\n",
      "dtype: datetime64[ns] \n",
      "\n",
      "Maximum value for the recorde date \n",
      "\n",
      "2015-01-30    0.973857\n",
      "2015-02-02    0.985392\n",
      "2015-08-12    0.998462\n",
      "2015-10-20    0.976698\n",
      "dtype: float64\n"
     ]
    }
   ],
   "source": [
    "# 5) For each group of four consecutive calendar months in s, find the date on which the\n",
    "#    highest value occurred.\n",
    "\n",
    "print(\"Duration of consecutive 4 months  , till that highest value recorded \\n\")\n",
    "print(s.groupby(pd.Grouper(freq='4M')).idxmax(),\"\\n\")\n",
    "print(\"Maximum value for the recorde date \\n\")\n",
    "print(s[s.groupby(pd.Grouper(freq='4M')).idxmax()])"
   ]
  }
 ],
 "metadata": {
  "kernelspec": {
   "display_name": "Python 3",
   "language": "python",
   "name": "python3"
  },
  "language_info": {
   "codemirror_mode": {
    "name": "ipython",
    "version": 3
   },
   "file_extension": ".py",
   "mimetype": "text/x-python",
   "name": "python",
   "nbconvert_exporter": "python",
   "pygments_lexer": "ipython3",
   "version": "3.6.5"
  }
 },
 "nbformat": 4,
 "nbformat_minor": 2
}
