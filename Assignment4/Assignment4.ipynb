{
 "cells": [
  {
   "cell_type": "markdown",
   "metadata": {},
   "source": [
    "1.1 Write a Python Program(with class concepts) to find the area of the triangle using the below\n",
    "formula.\n",
    "area = (s*(s-a)*(s-b)*(s-c)) ** 0.5\n",
    "Function to take the length of the sides of triangle from user should be defined in the parent\n",
    "class and function to calculate the area should be defined in subclass."
   ]
  },
  {
   "cell_type": "code",
   "execution_count": 6,
   "metadata": {},
   "outputs": [
    {
     "name": "stdout",
     "output_type": "stream",
     "text": [
      "5\n",
      "4\n",
      "3\n",
      "6.0\n"
     ]
    }
   ],
   "source": [
    "class MyClass:\n",
    "    #sideA\n",
    "    #sideB\n",
    "    #sideC\n",
    "    def __init__(this, a,b,c):\n",
    "        if MyClass.checkValidInputs(a,b,c) == True:\n",
    "            this.sideA = a\n",
    "            this.sideB = b\n",
    "            this.sideC = c\n",
    "        else:\n",
    "            print(\"Invalid inputs\")\n",
    "            this.sideA = 0\n",
    "            this.sideB = 0\n",
    "            this.sideC = 0\n",
    "    def calculateArea(this):\n",
    "        s = (this.sideA + this.sideB + this.sideC)/2\n",
    "        #print(s)\n",
    "        area = (s*(s-this.sideA)*(s-this.sideB)*(s-this.sideC)) ** 0.5\n",
    "        return area\n",
    "        \n",
    "    def checkValidInputs(a,b,c):\n",
    "        if a > b+c:\n",
    "            return False\n",
    "        elif b > a+c:\n",
    "            return False\n",
    "        elif c > a+b:\n",
    "            return False\n",
    "        else:\n",
    "            return True\n",
    "        \n",
    "if __name__ == '__main__':\n",
    "    a = int(input())\n",
    "\n",
    "    b = int(input())\n",
    "\n",
    "    c = int(input())   \n",
    "    t = MyClass(a,b,c)\n",
    "    #print(t)\n",
    "    if t.sideA > 0:\n",
    "        print(t.calculateArea())\n",
    "        "
   ]
  },
  {
   "cell_type": "markdown",
   "metadata": {
    "collapsed": true
   },
   "source": [
    "1.2 Write a function filter_long_words() that takes a list of words and an integer n and returns\n",
    "the list of words that are longer than n."
   ]
  },
  {
   "cell_type": "code",
   "execution_count": null,
   "metadata": {},
   "outputs": [],
   "source": []
  },
  {
   "cell_type": "markdown",
   "metadata": {
    "collapsed": true
   },
   "source": [
    "2.1 Write a Python program using function concept that maps list of words into a list of integers\n",
    "representing the lengths of the corresponding words.\n",
    "Hint: ​If a list [ ab,cde,erty] is passed on to the python function output should come as [2,3,4]\n",
    "Here 2,3 and 4 are the lengths of the words in the list."
   ]
  },
  {
   "cell_type": "code",
   "execution_count": null,
   "metadata": {
    "collapsed": true
   },
   "outputs": [],
   "source": []
  },
  {
   "cell_type": "markdown",
   "metadata": {},
   "source": [
    "2.2 Write a Python function which takes a character (i.e. a string of length 1) and returns True if\n",
    "it is a vowel, False otherwise."
   ]
  },
  {
   "cell_type": "code",
   "execution_count": null,
   "metadata": {},
   "outputs": [],
   "source": []
  }
 ],
 "metadata": {
  "kernelspec": {
   "display_name": "Python 3",
   "language": "python",
   "name": "python3"
  },
  "language_info": {
   "codemirror_mode": {
    "name": "ipython",
    "version": 3
   },
   "file_extension": ".py",
   "mimetype": "text/x-python",
   "name": "python",
   "nbconvert_exporter": "python",
   "pygments_lexer": "ipython3",
   "version": "3.6.5"
  }
 },
 "nbformat": 4,
 "nbformat_minor": 2
}
